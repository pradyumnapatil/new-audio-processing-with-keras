{
 "cells": [
  {
   "cell_type": "code",
   "execution_count": 2,
   "metadata": {},
   "outputs": [
    {
     "name": "stderr",
     "output_type": "stream",
     "text": [
      "Using TensorFlow backend.\n"
     ]
    }
   ],
   "source": [
    "import keras\n",
    "from keras.layers import Activation, Dense, Dropout, Conv2D, \\\n",
    "                         Flatten, MaxPooling2D\n",
    "from keras.models import Sequential\n",
    "import librosa\n",
    "import librosa.display\n",
    "import numpy as np\n",
    "import pandas as pd\n",
    "import random\n",
    "\n",
    "import warnings\n",
    "warnings.filterwarnings('ignore')"
   ]
  },
  {
   "cell_type": "code",
   "execution_count": 28,
   "metadata": {},
   "outputs": [
    {
     "data": {
      "text/html": [
       "<div>\n",
       "<style scoped>\n",
       "    .dataframe tbody tr th:only-of-type {\n",
       "        vertical-align: middle;\n",
       "    }\n",
       "\n",
       "    .dataframe tbody tr th {\n",
       "        vertical-align: top;\n",
       "    }\n",
       "\n",
       "    .dataframe thead th {\n",
       "        text-align: right;\n",
       "    }\n",
       "</style>\n",
       "<table border=\"1\" class=\"dataframe\">\n",
       "  <thead>\n",
       "    <tr style=\"text-align: right;\">\n",
       "      <th></th>\n",
       "      <th>slice_file_name</th>\n",
       "      <th>fsID</th>\n",
       "      <th>start</th>\n",
       "      <th>end</th>\n",
       "      <th>salience</th>\n",
       "      <th>fold</th>\n",
       "      <th>classID</th>\n",
       "      <th>class</th>\n",
       "    </tr>\n",
       "  </thead>\n",
       "  <tbody>\n",
       "    <tr>\n",
       "      <th>0</th>\n",
       "      <td>100032-3-0-0.wav</td>\n",
       "      <td>100032</td>\n",
       "      <td>0.000000</td>\n",
       "      <td>0.317551</td>\n",
       "      <td>1</td>\n",
       "      <td>5</td>\n",
       "      <td>3</td>\n",
       "      <td>dog_bark</td>\n",
       "    </tr>\n",
       "    <tr>\n",
       "      <th>1</th>\n",
       "      <td>100263-2-0-117.wav</td>\n",
       "      <td>100263</td>\n",
       "      <td>58.500000</td>\n",
       "      <td>62.500000</td>\n",
       "      <td>1</td>\n",
       "      <td>5</td>\n",
       "      <td>2</td>\n",
       "      <td>children_playing</td>\n",
       "    </tr>\n",
       "    <tr>\n",
       "      <th>2</th>\n",
       "      <td>100263-2-0-121.wav</td>\n",
       "      <td>100263</td>\n",
       "      <td>60.500000</td>\n",
       "      <td>64.500000</td>\n",
       "      <td>1</td>\n",
       "      <td>5</td>\n",
       "      <td>2</td>\n",
       "      <td>children_playing</td>\n",
       "    </tr>\n",
       "    <tr>\n",
       "      <th>3</th>\n",
       "      <td>100263-2-0-126.wav</td>\n",
       "      <td>100263</td>\n",
       "      <td>63.000000</td>\n",
       "      <td>67.000000</td>\n",
       "      <td>1</td>\n",
       "      <td>5</td>\n",
       "      <td>2</td>\n",
       "      <td>children_playing</td>\n",
       "    </tr>\n",
       "    <tr>\n",
       "      <th>4</th>\n",
       "      <td>100263-2-0-137.wav</td>\n",
       "      <td>100263</td>\n",
       "      <td>68.500000</td>\n",
       "      <td>72.500000</td>\n",
       "      <td>1</td>\n",
       "      <td>5</td>\n",
       "      <td>2</td>\n",
       "      <td>children_playing</td>\n",
       "    </tr>\n",
       "    <tr>\n",
       "      <th>5</th>\n",
       "      <td>100263-2-0-143.wav</td>\n",
       "      <td>100263</td>\n",
       "      <td>71.500000</td>\n",
       "      <td>75.500000</td>\n",
       "      <td>1</td>\n",
       "      <td>5</td>\n",
       "      <td>2</td>\n",
       "      <td>children_playing</td>\n",
       "    </tr>\n",
       "    <tr>\n",
       "      <th>6</th>\n",
       "      <td>100263-2-0-161.wav</td>\n",
       "      <td>100263</td>\n",
       "      <td>80.500000</td>\n",
       "      <td>84.500000</td>\n",
       "      <td>1</td>\n",
       "      <td>5</td>\n",
       "      <td>2</td>\n",
       "      <td>children_playing</td>\n",
       "    </tr>\n",
       "    <tr>\n",
       "      <th>7</th>\n",
       "      <td>100263-2-0-3.wav</td>\n",
       "      <td>100263</td>\n",
       "      <td>1.500000</td>\n",
       "      <td>5.500000</td>\n",
       "      <td>1</td>\n",
       "      <td>5</td>\n",
       "      <td>2</td>\n",
       "      <td>children_playing</td>\n",
       "    </tr>\n",
       "    <tr>\n",
       "      <th>8</th>\n",
       "      <td>100263-2-0-36.wav</td>\n",
       "      <td>100263</td>\n",
       "      <td>18.000000</td>\n",
       "      <td>22.000000</td>\n",
       "      <td>1</td>\n",
       "      <td>5</td>\n",
       "      <td>2</td>\n",
       "      <td>children_playing</td>\n",
       "    </tr>\n",
       "    <tr>\n",
       "      <th>9</th>\n",
       "      <td>100648-1-0-0.wav</td>\n",
       "      <td>100648</td>\n",
       "      <td>4.823402</td>\n",
       "      <td>5.471927</td>\n",
       "      <td>2</td>\n",
       "      <td>10</td>\n",
       "      <td>1</td>\n",
       "      <td>car_horn</td>\n",
       "    </tr>\n",
       "    <tr>\n",
       "      <th>10</th>\n",
       "      <td>100648-1-1-0.wav</td>\n",
       "      <td>100648</td>\n",
       "      <td>8.998279</td>\n",
       "      <td>10.052132</td>\n",
       "      <td>2</td>\n",
       "      <td>10</td>\n",
       "      <td>1</td>\n",
       "      <td>car_horn</td>\n",
       "    </tr>\n",
       "    <tr>\n",
       "      <th>11</th>\n",
       "      <td>100648-1-2-0.wav</td>\n",
       "      <td>100648</td>\n",
       "      <td>16.699509</td>\n",
       "      <td>17.104837</td>\n",
       "      <td>2</td>\n",
       "      <td>10</td>\n",
       "      <td>1</td>\n",
       "      <td>car_horn</td>\n",
       "    </tr>\n",
       "    <tr>\n",
       "      <th>12</th>\n",
       "      <td>100648-1-3-0.wav</td>\n",
       "      <td>100648</td>\n",
       "      <td>17.631764</td>\n",
       "      <td>19.253075</td>\n",
       "      <td>2</td>\n",
       "      <td>10</td>\n",
       "      <td>1</td>\n",
       "      <td>car_horn</td>\n",
       "    </tr>\n",
       "    <tr>\n",
       "      <th>13</th>\n",
       "      <td>100648-1-4-0.wav</td>\n",
       "      <td>100648</td>\n",
       "      <td>25.332994</td>\n",
       "      <td>27.197502</td>\n",
       "      <td>2</td>\n",
       "      <td>10</td>\n",
       "      <td>1</td>\n",
       "      <td>car_horn</td>\n",
       "    </tr>\n",
       "    <tr>\n",
       "      <th>14</th>\n",
       "      <td>100652-3-0-0.wav</td>\n",
       "      <td>100652</td>\n",
       "      <td>0.000000</td>\n",
       "      <td>4.000000</td>\n",
       "      <td>1</td>\n",
       "      <td>2</td>\n",
       "      <td>3</td>\n",
       "      <td>dog_bark</td>\n",
       "    </tr>\n",
       "    <tr>\n",
       "      <th>15</th>\n",
       "      <td>100652-3-0-1.wav</td>\n",
       "      <td>100652</td>\n",
       "      <td>0.500000</td>\n",
       "      <td>4.500000</td>\n",
       "      <td>1</td>\n",
       "      <td>2</td>\n",
       "      <td>3</td>\n",
       "      <td>dog_bark</td>\n",
       "    </tr>\n",
       "    <tr>\n",
       "      <th>16</th>\n",
       "      <td>100652-3-0-2.wav</td>\n",
       "      <td>100652</td>\n",
       "      <td>1.000000</td>\n",
       "      <td>5.000000</td>\n",
       "      <td>1</td>\n",
       "      <td>2</td>\n",
       "      <td>3</td>\n",
       "      <td>dog_bark</td>\n",
       "    </tr>\n",
       "    <tr>\n",
       "      <th>17</th>\n",
       "      <td>100652-3-0-3.wav</td>\n",
       "      <td>100652</td>\n",
       "      <td>1.500000</td>\n",
       "      <td>5.500000</td>\n",
       "      <td>1</td>\n",
       "      <td>2</td>\n",
       "      <td>3</td>\n",
       "      <td>dog_bark</td>\n",
       "    </tr>\n",
       "    <tr>\n",
       "      <th>18</th>\n",
       "      <td>100795-3-0-0.wav</td>\n",
       "      <td>100795</td>\n",
       "      <td>0.191790</td>\n",
       "      <td>4.191790</td>\n",
       "      <td>1</td>\n",
       "      <td>10</td>\n",
       "      <td>3</td>\n",
       "      <td>dog_bark</td>\n",
       "    </tr>\n",
       "    <tr>\n",
       "      <th>19</th>\n",
       "      <td>100795-3-1-0.wav</td>\n",
       "      <td>100795</td>\n",
       "      <td>13.059155</td>\n",
       "      <td>17.059155</td>\n",
       "      <td>1</td>\n",
       "      <td>10</td>\n",
       "      <td>3</td>\n",
       "      <td>dog_bark</td>\n",
       "    </tr>\n",
       "  </tbody>\n",
       "</table>\n",
       "</div>"
      ],
      "text/plain": [
       "       slice_file_name    fsID      start        end  salience  fold  classID  \\\n",
       "0     100032-3-0-0.wav  100032   0.000000   0.317551         1     5        3   \n",
       "1   100263-2-0-117.wav  100263  58.500000  62.500000         1     5        2   \n",
       "2   100263-2-0-121.wav  100263  60.500000  64.500000         1     5        2   \n",
       "3   100263-2-0-126.wav  100263  63.000000  67.000000         1     5        2   \n",
       "4   100263-2-0-137.wav  100263  68.500000  72.500000         1     5        2   \n",
       "5   100263-2-0-143.wav  100263  71.500000  75.500000         1     5        2   \n",
       "6   100263-2-0-161.wav  100263  80.500000  84.500000         1     5        2   \n",
       "7     100263-2-0-3.wav  100263   1.500000   5.500000         1     5        2   \n",
       "8    100263-2-0-36.wav  100263  18.000000  22.000000         1     5        2   \n",
       "9     100648-1-0-0.wav  100648   4.823402   5.471927         2    10        1   \n",
       "10    100648-1-1-0.wav  100648   8.998279  10.052132         2    10        1   \n",
       "11    100648-1-2-0.wav  100648  16.699509  17.104837         2    10        1   \n",
       "12    100648-1-3-0.wav  100648  17.631764  19.253075         2    10        1   \n",
       "13    100648-1-4-0.wav  100648  25.332994  27.197502         2    10        1   \n",
       "14    100652-3-0-0.wav  100652   0.000000   4.000000         1     2        3   \n",
       "15    100652-3-0-1.wav  100652   0.500000   4.500000         1     2        3   \n",
       "16    100652-3-0-2.wav  100652   1.000000   5.000000         1     2        3   \n",
       "17    100652-3-0-3.wav  100652   1.500000   5.500000         1     2        3   \n",
       "18    100795-3-0-0.wav  100795   0.191790   4.191790         1    10        3   \n",
       "19    100795-3-1-0.wav  100795  13.059155  17.059155         1    10        3   \n",
       "\n",
       "               class  \n",
       "0           dog_bark  \n",
       "1   children_playing  \n",
       "2   children_playing  \n",
       "3   children_playing  \n",
       "4   children_playing  \n",
       "5   children_playing  \n",
       "6   children_playing  \n",
       "7   children_playing  \n",
       "8   children_playing  \n",
       "9           car_horn  \n",
       "10          car_horn  \n",
       "11          car_horn  \n",
       "12          car_horn  \n",
       "13          car_horn  \n",
       "14          dog_bark  \n",
       "15          dog_bark  \n",
       "16          dog_bark  \n",
       "17          dog_bark  \n",
       "18          dog_bark  \n",
       "19          dog_bark  "
      ]
     },
     "execution_count": 28,
     "metadata": {},
     "output_type": "execute_result"
    }
   ],
   "source": [
    "df = pd.read_csv(r'D:\\datas\\urban8k\\UrbanSound8K\\metadata\\UrbanSound8K.csv')\n",
    "df.head(20)"
   ]
  },
  {
   "cell_type": "code",
   "execution_count": 4,
   "metadata": {},
   "outputs": [
    {
     "data": {
      "text/plain": [
       "(8732, 8)"
      ]
     },
     "execution_count": 4,
     "metadata": {},
     "output_type": "execute_result"
    }
   ],
   "source": [
    "data.shape"
   ]
  },
  {
   "cell_type": "code",
   "execution_count": 5,
   "metadata": {},
   "outputs": [
    {
     "data": {
      "text/plain": [
       "(7468, 4)"
      ]
     },
     "execution_count": 5,
     "metadata": {},
     "output_type": "execute_result"
    }
   ],
   "source": [
    "valid_data = data[['slice_file_name', 'fold' ,'classID', 'class']][ data['end']-data['start'] >= 3 ]\n",
    "valid_data.shape"
   ]
  },
  {
   "cell_type": "code",
   "execution_count": 6,
   "metadata": {},
   "outputs": [
    {
     "data": {
      "text/plain": [
       "(128, 128)"
      ]
     },
     "execution_count": 6,
     "metadata": {},
     "output_type": "execute_result"
    }
   ],
   "source": [
    "y, sr = librosa.load(r'D:\\datas\\urban8k\\UrbanSound8K\\audio\\fold6\\135160-8-0-0.wav', duration=2.97)\n",
    "ps = librosa.feature.melspectrogram(y=y, sr=sr)\n",
    "ps.shape"
   ]
  },
  {
   "cell_type": "code",
   "execution_count": 35,
   "metadata": {},
   "outputs": [
    {
     "data": {
      "text/plain": [
       "<matplotlib.axes._subplots.AxesSubplot at 0x15ac4935208>"
      ]
     },
     "execution_count": 35,
     "metadata": {},
     "output_type": "execute_result"
    },
    {
     "data": {
      "image/png": "[encoded data removed]",
      "text/plain": [
       "<Figure size 432x288 with 1 Axes>"
      ]
     },
     "metadata": {
      "needs_background": "light"
     },
     "output_type": "display_data"
    }
   ],
   "source": [
    "librosa.display.specshow(ps, y_axis='cqt_hz', x_axis='time')\n"
   ]
  },
  {
   "cell_type": "code",
   "execution_count": 8,
   "metadata": {},
   "outputs": [
    {
     "data": {
      "text/plain": [
       "(128, 128)"
      ]
     },
     "execution_count": 8,
     "metadata": {},
     "output_type": "execute_result"
    }
   ],
   "source": [
    "y, sr = librosa.load(r'D:\\datas\\urban8k\\UrbanSound8K\\audio\\fold1\\134717-0-0-19.wav', duration=2.97)\n",
    "ps = librosa.feature.melspectrogram(y=y, sr=sr)\n",
    "ps.shape"
   ]
  },
  {
   "cell_type": "code",
   "execution_count": 32,
   "metadata": {},
   "outputs": [
    {
     "data": {
      "text/plain": [
       "<matplotlib.axes._subplots.AxesSubplot at 0x15ac488e6a0>"
      ]
     },
     "execution_count": 32,
     "metadata": {},
     "output_type": "execute_result"
    },
    {
     "data": {
      "image/png": "[encoded data removed]",
      "text/plain": [
       "<Figure size 432x288 with 1 Axes>"
      ]
     },
     "metadata": {
      "needs_background": "light"
     },
     "output_type": "display_data"
    }
   ],
   "source": [
    "librosa.display.specshow(ps, y_axis='cqt_hz', x_axis='time')\n"
   ]
  },
  {
   "cell_type": "code",
   "execution_count": 10,
   "metadata": {},
   "outputs": [
    {
     "data": {
      "text/plain": [
       "(128, 128)"
      ]
     },
     "execution_count": 10,
     "metadata": {},
     "output_type": "execute_result"
    }
   ],
   "source": [
    "y, sr = librosa.load(r'D:\\datas\\urban8k\\UrbanSound8K\\audio\\fold9\\13579-2-0-16.wav', duration=2.97)\n",
    "ps = librosa.feature.melspectrogram(y=y, sr=sr)\n",
    "ps.shape"
   ]
  },
  {
   "cell_type": "code",
   "execution_count": 31,
   "metadata": {},
   "outputs": [
    {
     "data": {
      "text/plain": [
       "<matplotlib.axes._subplots.AxesSubplot at 0x15ab78b89e8>"
      ]
     },
     "execution_count": 31,
     "metadata": {},
     "output_type": "execute_result"
    },
    {
     "data": {
      "image/png": "[encoded data removed]",
      "text/plain": [
       "<Figure size 432x288 with 1 Axes>"
      ]
     },
     "metadata": {
      "needs_background": "light"
     },
     "output_type": "display_data"
    }
   ],
   "source": [
    "librosa.display.specshow(ps, y_axis='cqt_hz', x_axis='time')\n"
   ]
  },
  {
   "cell_type": "code",
   "execution_count": 12,
   "metadata": {},
   "outputs": [
    {
     "data": {
      "text/plain": [
       "(128, 128)"
      ]
     },
     "execution_count": 12,
     "metadata": {},
     "output_type": "execute_result"
    }
   ],
   "source": [
    "y, sr = librosa.load(r'D:/datas/urban8k/UrbanSound8K/audio/fold9/137815-4-0-0.wav', duration=2.97)\n",
    "ps = librosa.feature.melspectrogram(y=y, sr=sr)\n",
    "ps.shape"
   ]
  },
  {
   "cell_type": "code",
   "execution_count": 33,
   "metadata": {},
   "outputs": [
    {
     "data": {
      "text/plain": [
       "<matplotlib.axes._subplots.AxesSubplot at 0x15ac4808198>"
      ]
     },
     "execution_count": 33,
     "metadata": {},
     "output_type": "execute_result"
    },
    {
     "data": {
      "image/png": "[encoded data removed]",
      "text/plain": [
       "<Figure size 432x288 with 1 Axes>"
      ]
     },
     "metadata": {
      "needs_background": "light"
     },
     "output_type": "display_data"
    }
   ],
   "source": [
    "librosa.display.specshow(ps, y_axis='cqt_hz', x_axis='time')\n"
   ]
  },
  {
   "cell_type": "code",
   "execution_count": 14,
   "metadata": {},
   "outputs": [],
   "source": [
    "valid_data['path'] = 'fold' + valid_data['fold'].astype('str') + '/' + valid_data['slice_file_name'].astype('str')\n"
   ]
  },
  {
   "cell_type": "code",
   "execution_count": 15,
   "metadata": {},
   "outputs": [],
   "source": [
    "D = []\n",
    "for row in valid_data.itertuples():\n",
    "    y, sr = librosa.load(r'D:/datas/urban8k/UrbanSound8K/audio/' + row.path, duration=2.97)  \n",
    "    ps = librosa.feature.melspectrogram(y=y, sr=sr)\n",
    "    if ps.shape != (128, 128): continue\n",
    "    D.append( (ps, row.classID) )"
   ]
  },
  {
   "cell_type": "code",
   "execution_count": 16,
   "metadata": {},
   "outputs": [
    {
     "name": "stdout",
     "output_type": "stream",
     "text": [
      "Number of samples:  7467\n"
     ]
    }
   ],
   "source": [
    "print(\"Number of samples: \", len(D))\n"
   ]
  },
  {
   "cell_type": "code",
   "execution_count": 17,
   "metadata": {},
   "outputs": [],
   "source": [
    "dataset = D\n",
    "random.shuffle(dataset)\n",
    "train = dataset[:7000]\n",
    "test = dataset[7000:]\n",
    "X_train, y_train = zip(*train)\n",
    "X_test, y_test = zip(*test)\n",
    "X_train = np.array([x.reshape( (128, 128, 1) ) for x in X_train])\n",
    "X_test = np.array([x.reshape( (128, 128, 1) ) for x in X_test])\n",
    "y_train = np.array(keras.utils.to_categorical(y_train, 10))\n",
    "y_test = np.array(keras.utils.to_categorical(y_test, 10))"
   ]
  },
  {
   "cell_type": "code",
   "execution_count": 18,
   "metadata": {},
   "outputs": [
    {
     "name": "stdout",
     "output_type": "stream",
     "text": [
      "WARNING:tensorflow:From C:\\Users\\pradyumna\\Anaconda3\\envs\\tf\\lib\\site-packages\\tensorflow\\python\\framework\\op_def_library.py:263: colocate_with (from tensorflow.python.framework.ops) is deprecated and will be removed in a future version.\n",
      "Instructions for updating:\n",
      "Colocations handled automatically by placer.\n",
      "WARNING:tensorflow:From C:\\Users\\pradyumna\\Anaconda3\\envs\\tf\\lib\\site-packages\\keras\\backend\\tensorflow_backend.py:3445: calling dropout (from tensorflow.python.ops.nn_ops) with keep_prob is deprecated and will be removed in a future version.\n",
      "Instructions for updating:\n",
      "Please use `rate` instead of `keep_prob`. Rate should be set to `rate = 1 - keep_prob`.\n"
     ]
    }
   ],
   "source": [
    "model = Sequential()\n",
    "input_shape=(128, 128, 1)\n",
    "\n",
    "model.add(Conv2D(24, (5, 5), strides=(1, 1), input_shape=input_shape))\n",
    "model.add(MaxPooling2D((4, 2), strides=(4, 2)))\n",
    "model.add(Activation('relu'))\n",
    "\n",
    "model.add(Conv2D(48, (5, 5), padding=\"valid\"))\n",
    "model.add(MaxPooling2D((4, 2), strides=(4, 2)))\n",
    "model.add(Activation('relu'))\n",
    "\n",
    "model.add(Conv2D(48, (5, 5), padding=\"valid\"))\n",
    "model.add(Activation('relu'))\n",
    "\n",
    "model.add(Flatten())\n",
    "model.add(Dropout(rate=0.5))\n",
    "\n",
    "model.add(Dense(64))\n",
    "model.add(Activation('relu'))\n",
    "model.add(Dropout(rate=0.5))\n",
    "\n",
    "model.add(Dense(10))\n",
    "model.add(Activation('softmax'))"
   ]
  },
  {
   "cell_type": "code",
   "execution_count": 19,
   "metadata": {},
   "outputs": [
    {
     "name": "stdout",
     "output_type": "stream",
     "text": [
      "_________________________________________________________________\n",
      "Layer (type)                 Output Shape              Param #   \n",
      "=================================================================\n",
      "conv2d_1 (Conv2D)            (None, 124, 124, 24)      624       \n",
      "_________________________________________________________________\n",
      "max_pooling2d_1 (MaxPooling2 (None, 31, 62, 24)        0         \n",
      "_________________________________________________________________\n",
      "activation_1 (Activation)    (None, 31, 62, 24)        0         \n",
      "_________________________________________________________________\n",
      "conv2d_2 (Conv2D)            (None, 27, 58, 48)        28848     \n",
      "_________________________________________________________________\n",
      "max_pooling2d_2 (MaxPooling2 (None, 6, 29, 48)         0         \n",
      "_________________________________________________________________\n",
      "activation_2 (Activation)    (None, 6, 29, 48)         0         \n",
      "_________________________________________________________________\n",
      "conv2d_3 (Conv2D)            (None, 2, 25, 48)         57648     \n",
      "_________________________________________________________________\n",
      "activation_3 (Activation)    (None, 2, 25, 48)         0         \n",
      "_________________________________________________________________\n",
      "flatten_1 (Flatten)          (None, 2400)              0         \n",
      "_________________________________________________________________\n",
      "dropout_1 (Dropout)          (None, 2400)              0         \n",
      "_________________________________________________________________\n",
      "dense_1 (Dense)              (None, 64)                153664    \n",
      "_________________________________________________________________\n",
      "activation_4 (Activation)    (None, 64)                0         \n",
      "_________________________________________________________________\n",
      "dropout_2 (Dropout)          (None, 64)                0         \n",
      "_________________________________________________________________\n",
      "dense_2 (Dense)              (None, 10)                650       \n",
      "_________________________________________________________________\n",
      "activation_5 (Activation)    (None, 10)                0         \n",
      "=================================================================\n",
      "Total params: 241,434\n",
      "Trainable params: 241,434\n",
      "Non-trainable params: 0\n",
      "_________________________________________________________________\n"
     ]
    }
   ],
   "source": [
    "model.summary()"
   ]
  },
  {
   "cell_type": "code",
   "execution_count": 24,
   "metadata": {},
   "outputs": [
    {
     "name": "stdout",
     "output_type": "stream",
     "text": [
      "Train on 7000 samples, validate on 467 samples\n",
      "Epoch 1/100\n",
      "7000/7000 [==============================] - 4s 578us/step - loss: 0.1881 - acc: 0.9459 - val_loss: 0.5311 - val_acc: 0.8951\n",
      "Epoch 2/100\n",
      "7000/7000 [==============================] - 3s 436us/step - loss: 0.1887 - acc: 0.9434 - val_loss: 0.5252 - val_acc: 0.8972\n",
      "Epoch 3/100\n",
      "7000/7000 [==============================] - 3s 436us/step - loss: 0.2573 - acc: 0.9250 - val_loss: 0.6604 - val_acc: 0.8822\n",
      "Epoch 4/100\n",
      "7000/7000 [==============================] - 3s 441us/step - loss: 0.2117 - acc: 0.9414 - val_loss: 0.5371 - val_acc: 0.8801\n",
      "Epoch 5/100\n",
      "7000/7000 [==============================] - 3s 447us/step - loss: 0.1992 - acc: 0.9453 - val_loss: 0.5478 - val_acc: 0.8715\n",
      "Epoch 6/100\n",
      "7000/7000 [==============================] - 3s 440us/step - loss: 0.1973 - acc: 0.9440 - val_loss: 0.6787 - val_acc: 0.8737\n",
      "Epoch 7/100\n",
      "7000/7000 [==============================] - 3s 436us/step - loss: 0.2289 - acc: 0.9406 - val_loss: 0.5790 - val_acc: 0.8715\n",
      "Epoch 8/100\n",
      "7000/7000 [==============================] - 3s 436us/step - loss: 0.2811 - acc: 0.9239 - val_loss: 0.8477 - val_acc: 0.8672\n",
      "Epoch 9/100\n",
      "7000/7000 [==============================] - 3s 437us/step - loss: 0.2294 - acc: 0.9371 - val_loss: 0.6682 - val_acc: 0.8801\n",
      "Epoch 10/100\n",
      "7000/7000 [==============================] - 3s 441us/step - loss: 0.2394 - acc: 0.9363 - val_loss: 0.7349 - val_acc: 0.8587\n",
      "Epoch 11/100\n",
      "7000/7000 [==============================] - 3s 443us/step - loss: 0.2030 - acc: 0.9431 - val_loss: 0.6689 - val_acc: 0.8779\n",
      "Epoch 12/100\n",
      "7000/7000 [==============================] - 3s 444us/step - loss: 0.1877 - acc: 0.9491 - val_loss: 0.5292 - val_acc: 0.8908\n",
      "Epoch 13/100\n",
      "7000/7000 [==============================] - 3s 444us/step - loss: 0.1906 - acc: 0.9487 - val_loss: 0.6056 - val_acc: 0.8822\n",
      "Epoch 14/100\n",
      "7000/7000 [==============================] - 3s 440us/step - loss: 0.2252 - acc: 0.9387 - val_loss: 0.6862 - val_acc: 0.8758\n",
      "Epoch 15/100\n",
      "7000/7000 [==============================] - 3s 438us/step - loss: 0.2216 - acc: 0.9380 - val_loss: 0.5894 - val_acc: 0.8801\n",
      "Epoch 16/100\n",
      "7000/7000 [==============================] - 3s 443us/step - loss: 0.2665 - acc: 0.9367 - val_loss: 0.6335 - val_acc: 0.8908\n",
      "Epoch 17/100\n",
      "7000/7000 [==============================] - 3s 441us/step - loss: 0.2614 - acc: 0.9379 - val_loss: 0.6734 - val_acc: 0.8565\n",
      "Epoch 18/100\n",
      "7000/7000 [==============================] - 3s 438us/step - loss: 0.2567 - acc: 0.9331 - val_loss: 0.6355 - val_acc: 0.8758\n",
      "Epoch 19/100\n",
      "7000/7000 [==============================] - 3s 438us/step - loss: 0.3584 - acc: 0.9183 - val_loss: 0.7586 - val_acc: 0.8565\n",
      "Epoch 20/100\n",
      "7000/7000 [==============================] - 3s 438us/step - loss: 0.2139 - acc: 0.9377 - val_loss: 0.5922 - val_acc: 0.8951\n",
      "Epoch 21/100\n",
      "7000/7000 [==============================] - 3s 442us/step - loss: 0.2216 - acc: 0.9393 - val_loss: 0.7149 - val_acc: 0.8822\n",
      "Epoch 22/100\n",
      "7000/7000 [==============================] - 3s 440us/step - loss: 0.2201 - acc: 0.9389 - val_loss: 0.5795 - val_acc: 0.8887\n",
      "Epoch 23/100\n",
      "7000/7000 [==============================] - 3s 439us/step - loss: 0.1531 - acc: 0.9541 - val_loss: 0.6033 - val_acc: 0.8972\n",
      "Epoch 24/100\n",
      "7000/7000 [==============================] - 3s 442us/step - loss: 0.1705 - acc: 0.9513 - val_loss: 0.5340 - val_acc: 0.9058\n",
      "Epoch 25/100\n",
      "7000/7000 [==============================] - 3s 444us/step - loss: 0.1469 - acc: 0.9579 - val_loss: 0.5886 - val_acc: 0.8994\n",
      "Epoch 26/100\n",
      "7000/7000 [==============================] - 3s 440us/step - loss: 0.1856 - acc: 0.9467 - val_loss: 0.5876 - val_acc: 0.8865\n",
      "Epoch 27/100\n",
      "7000/7000 [==============================] - 3s 440us/step - loss: 0.1664 - acc: 0.9543 - val_loss: 0.5593 - val_acc: 0.8844\n",
      "Epoch 28/100\n",
      "7000/7000 [==============================] - 3s 441us/step - loss: 0.1666 - acc: 0.9547 - val_loss: 0.6372 - val_acc: 0.8887\n",
      "Epoch 29/100\n",
      "7000/7000 [==============================] - 3s 439us/step - loss: 0.1510 - acc: 0.9546 - val_loss: 0.5748 - val_acc: 0.8887\n",
      "Epoch 30/100\n",
      "7000/7000 [==============================] - 3s 439us/step - loss: 0.1308 - acc: 0.9601 - val_loss: 0.5604 - val_acc: 0.8951\n",
      "Epoch 31/100\n",
      "7000/7000 [==============================] - 3s 441us/step - loss: 0.1651 - acc: 0.9483 - val_loss: 0.5506 - val_acc: 0.9101\n",
      "Epoch 32/100\n",
      "7000/7000 [==============================] - 3s 441us/step - loss: 0.1332 - acc: 0.9619 - val_loss: 0.6028 - val_acc: 0.9015\n",
      "Epoch 33/100\n",
      "7000/7000 [==============================] - 3s 441us/step - loss: 0.1175 - acc: 0.9649 - val_loss: 0.5464 - val_acc: 0.8908\n",
      "Epoch 34/100\n",
      "7000/7000 [==============================] - 3s 441us/step - loss: 0.1483 - acc: 0.9556 - val_loss: 0.7144 - val_acc: 0.8779\n",
      "Epoch 35/100\n",
      "7000/7000 [==============================] - 3s 440us/step - loss: 0.1634 - acc: 0.9509 - val_loss: 0.6345 - val_acc: 0.8951\n",
      "Epoch 36/100\n",
      "7000/7000 [==============================] - 3s 442us/step - loss: 0.1605 - acc: 0.9554 - val_loss: 0.6319 - val_acc: 0.8822\n",
      "Epoch 37/100\n",
      "7000/7000 [==============================] - 3s 442us/step - loss: 0.1978 - acc: 0.9444 - val_loss: 0.7341 - val_acc: 0.8779\n",
      "Epoch 38/100\n",
      "7000/7000 [==============================] - 3s 441us/step - loss: 0.1814 - acc: 0.9531 - val_loss: 0.7449 - val_acc: 0.8651\n",
      "Epoch 39/100\n",
      "7000/7000 [==============================] - 3s 440us/step - loss: 0.1469 - acc: 0.9546 - val_loss: 0.6741 - val_acc: 0.8672\n",
      "Epoch 40/100\n",
      "7000/7000 [==============================] - 3s 448us/step - loss: 0.1545 - acc: 0.9557 - val_loss: 0.6987 - val_acc: 0.8908\n",
      "Epoch 41/100\n",
      "7000/7000 [==============================] - 3s 439us/step - loss: 0.1265 - acc: 0.9616 - val_loss: 0.6746 - val_acc: 0.8822\n",
      "Epoch 42/100\n",
      "7000/7000 [==============================] - 3s 440us/step - loss: 0.1602 - acc: 0.9571 - val_loss: 0.6654 - val_acc: 0.8908\n",
      "Epoch 43/100\n",
      "7000/7000 [==============================] - 3s 439us/step - loss: 0.1631 - acc: 0.9543 - val_loss: 0.8355 - val_acc: 0.8415\n",
      "Epoch 44/100\n",
      "7000/7000 [==============================] - 3s 439us/step - loss: 0.2383 - acc: 0.9401 - val_loss: 0.7095 - val_acc: 0.8672\n",
      "Epoch 45/100\n",
      "7000/7000 [==============================] - 3s 441us/step - loss: 0.1490 - acc: 0.9570 - val_loss: 0.6020 - val_acc: 0.8887\n",
      "Epoch 46/100\n",
      "7000/7000 [==============================] - 3s 438us/step - loss: 0.1428 - acc: 0.9581 - val_loss: 0.5989 - val_acc: 0.8887\n",
      "Epoch 47/100\n",
      "7000/7000 [==============================] - 3s 441us/step - loss: 0.1387 - acc: 0.9593 - val_loss: 0.5559 - val_acc: 0.8801\n",
      "Epoch 48/100\n",
      "7000/7000 [==============================] - 3s 441us/step - loss: 0.1079 - acc: 0.9669 - val_loss: 0.5899 - val_acc: 0.8865\n",
      "Epoch 49/100\n",
      "7000/7000 [==============================] - 3s 443us/step - loss: 0.1579 - acc: 0.9563 - val_loss: 0.7609 - val_acc: 0.8630\n",
      "Epoch 50/100\n",
      "7000/7000 [==============================] - 3s 445us/step - loss: 0.1930 - acc: 0.9467 - val_loss: 0.5664 - val_acc: 0.8844\n",
      "Epoch 51/100\n",
      "7000/7000 [==============================] - 3s 444us/step - loss: 0.1449 - acc: 0.9607 - val_loss: 0.5570 - val_acc: 0.9015\n",
      "Epoch 52/100\n",
      "7000/7000 [==============================] - 3s 447us/step - loss: 0.2034 - acc: 0.9480 - val_loss: 0.6390 - val_acc: 0.8758\n",
      "Epoch 53/100\n",
      "7000/7000 [==============================] - 3s 446us/step - loss: 0.3245 - acc: 0.9243 - val_loss: 0.5916 - val_acc: 0.8887\n",
      "Epoch 54/100\n",
      "7000/7000 [==============================] - 3s 441us/step - loss: 0.1968 - acc: 0.9480 - val_loss: 0.6564 - val_acc: 0.8972\n",
      "Epoch 55/100\n",
      "7000/7000 [==============================] - 3s 437us/step - loss: 0.1994 - acc: 0.9494 - val_loss: 0.8238 - val_acc: 0.8437\n",
      "Epoch 56/100\n",
      "7000/7000 [==============================] - 3s 436us/step - loss: 0.4094 - acc: 0.9101 - val_loss: 0.7658 - val_acc: 0.8458\n",
      "Epoch 57/100\n",
      "7000/7000 [==============================] - 3s 437us/step - loss: 0.2521 - acc: 0.9336 - val_loss: 0.6275 - val_acc: 0.8737\n",
      "Epoch 58/100\n",
      "7000/7000 [==============================] - 3s 439us/step - loss: 0.2068 - acc: 0.9436 - val_loss: 0.6612 - val_acc: 0.8887\n",
      "Epoch 59/100\n",
      "7000/7000 [==============================] - 3s 439us/step - loss: 0.1639 - acc: 0.9550 - val_loss: 0.7182 - val_acc: 0.8779\n",
      "Epoch 60/100\n"
     ]
    },
    {
     "name": "stdout",
     "output_type": "stream",
     "text": [
      "7000/7000 [==============================] - 3s 438us/step - loss: 0.1854 - acc: 0.9487 - val_loss: 0.7616 - val_acc: 0.8779\n",
      "Epoch 61/100\n",
      "7000/7000 [==============================] - 3s 437us/step - loss: 0.1487 - acc: 0.9551 - val_loss: 0.6328 - val_acc: 0.8908\n",
      "Epoch 62/100\n",
      "7000/7000 [==============================] - 3s 438us/step - loss: 0.2875 - acc: 0.9330 - val_loss: 0.7387 - val_acc: 0.8737\n",
      "Epoch 63/100\n",
      "7000/7000 [==============================] - 3s 437us/step - loss: 0.1899 - acc: 0.9497 - val_loss: 0.6086 - val_acc: 0.8887\n",
      "Epoch 64/100\n",
      "7000/7000 [==============================] - 3s 436us/step - loss: 0.2094 - acc: 0.9440 - val_loss: 0.5188 - val_acc: 0.8929\n",
      "Epoch 65/100\n",
      "7000/7000 [==============================] - 3s 436us/step - loss: 0.1491 - acc: 0.9581 - val_loss: 0.7204 - val_acc: 0.8865\n",
      "Epoch 66/100\n",
      "7000/7000 [==============================] - 3s 437us/step - loss: 0.2323 - acc: 0.9396 - val_loss: 0.5271 - val_acc: 0.8887\n",
      "Epoch 67/100\n",
      "7000/7000 [==============================] - 3s 437us/step - loss: 0.1663 - acc: 0.9531 - val_loss: 0.4831 - val_acc: 0.8887\n",
      "Epoch 68/100\n",
      "7000/7000 [==============================] - 3s 437us/step - loss: 0.1511 - acc: 0.9570 - val_loss: 0.6262 - val_acc: 0.8887\n",
      "Epoch 69/100\n",
      "7000/7000 [==============================] - 3s 438us/step - loss: 0.1388 - acc: 0.9581 - val_loss: 0.5597 - val_acc: 0.8844\n",
      "Epoch 70/100\n",
      "7000/7000 [==============================] - 3s 437us/step - loss: 0.1837 - acc: 0.9541 - val_loss: 0.9506 - val_acc: 0.8630\n",
      "Epoch 71/100\n",
      "7000/7000 [==============================] - 3s 439us/step - loss: 0.1893 - acc: 0.9473 - val_loss: 0.5786 - val_acc: 0.8951\n",
      "Epoch 72/100\n",
      "7000/7000 [==============================] - 3s 439us/step - loss: 0.1193 - acc: 0.9646 - val_loss: 0.5913 - val_acc: 0.8929\n",
      "Epoch 73/100\n",
      "7000/7000 [==============================] - 3s 440us/step - loss: 0.1781 - acc: 0.9554 - val_loss: 0.6335 - val_acc: 0.8929\n",
      "Epoch 74/100\n",
      "7000/7000 [==============================] - 3s 440us/step - loss: 0.1995 - acc: 0.9520 - val_loss: 0.7625 - val_acc: 0.8737\n",
      "Epoch 75/100\n",
      "7000/7000 [==============================] - 3s 438us/step - loss: 0.2639 - acc: 0.9356 - val_loss: 0.5430 - val_acc: 0.8887\n",
      "Epoch 76/100\n",
      "7000/7000 [==============================] - 3s 437us/step - loss: 0.1599 - acc: 0.9543 - val_loss: 0.5429 - val_acc: 0.9079\n",
      "Epoch 77/100\n",
      "7000/7000 [==============================] - ETA: 0s - loss: 0.1433 - acc: 0.962 - 3s 437us/step - loss: 0.1449 - acc: 0.9619 - val_loss: 0.6821 - val_acc: 0.8779\n",
      "Epoch 78/100\n",
      "7000/7000 [==============================] - 3s 439us/step - loss: 0.1468 - acc: 0.9583 - val_loss: 0.6095 - val_acc: 0.8929\n",
      "Epoch 79/100\n",
      "7000/7000 [==============================] - 3s 439us/step - loss: 0.1454 - acc: 0.9610 - val_loss: 0.5473 - val_acc: 0.8865\n",
      "Epoch 80/100\n",
      "7000/7000 [==============================] - 3s 439us/step - loss: 0.1211 - acc: 0.9620 - val_loss: 0.5297 - val_acc: 0.9015\n",
      "Epoch 81/100\n",
      "7000/7000 [==============================] - 3s 440us/step - loss: 0.1124 - acc: 0.9667 - val_loss: 0.5689 - val_acc: 0.9015\n",
      "Epoch 82/100\n",
      "7000/7000 [==============================] - 3s 438us/step - loss: 0.1039 - acc: 0.9700 - val_loss: 0.6070 - val_acc: 0.8994\n",
      "Epoch 83/100\n",
      "7000/7000 [==============================] - 3s 440us/step - loss: 0.0995 - acc: 0.9734 - val_loss: 0.5532 - val_acc: 0.9015\n",
      "Epoch 84/100\n",
      "7000/7000 [==============================] - 3s 439us/step - loss: 0.0951 - acc: 0.9703 - val_loss: 0.6332 - val_acc: 0.8887\n",
      "Epoch 85/100\n",
      "7000/7000 [==============================] - 3s 438us/step - loss: 0.1478 - acc: 0.9604 - val_loss: 0.5662 - val_acc: 0.9015\n",
      "Epoch 86/100\n",
      "7000/7000 [==============================] - 3s 438us/step - loss: 0.1427 - acc: 0.9604 - val_loss: 0.7735 - val_acc: 0.8844\n",
      "Epoch 87/100\n",
      "7000/7000 [==============================] - 3s 438us/step - loss: 0.2016 - acc: 0.9519 - val_loss: 1.1956 - val_acc: 0.8009\n",
      "Epoch 88/100\n",
      "7000/7000 [==============================] - 3s 439us/step - loss: 0.4843 - acc: 0.8901 - val_loss: 0.7121 - val_acc: 0.8737\n",
      "Epoch 89/100\n",
      "7000/7000 [==============================] - 3s 441us/step - loss: 0.1989 - acc: 0.9441 - val_loss: 0.6220 - val_acc: 0.8887\n",
      "Epoch 90/100\n",
      "7000/7000 [==============================] - 3s 440us/step - loss: 0.2075 - acc: 0.9474 - val_loss: 0.6068 - val_acc: 0.8758\n",
      "Epoch 91/100\n",
      "7000/7000 [==============================] - 3s 440us/step - loss: 0.1764 - acc: 0.9519 - val_loss: 0.5315 - val_acc: 0.8951\n",
      "Epoch 92/100\n",
      "7000/7000 [==============================] - 3s 439us/step - loss: 0.1490 - acc: 0.9556 - val_loss: 0.7042 - val_acc: 0.8715\n",
      "Epoch 93/100\n",
      "7000/7000 [==============================] - 3s 442us/step - loss: 0.1695 - acc: 0.9546 - val_loss: 0.5634 - val_acc: 0.8972\n",
      "Epoch 94/100\n",
      "7000/7000 [==============================] - 3s 440us/step - loss: 0.1823 - acc: 0.9553 - val_loss: 0.6464 - val_acc: 0.8908\n",
      "Epoch 95/100\n",
      "7000/7000 [==============================] - 3s 443us/step - loss: 0.1410 - acc: 0.9583 - val_loss: 0.6264 - val_acc: 0.8865\n",
      "Epoch 96/100\n",
      "7000/7000 [==============================] - 3s 441us/step - loss: 0.1373 - acc: 0.9629 - val_loss: 0.7505 - val_acc: 0.8887\n",
      "Epoch 97/100\n",
      "7000/7000 [==============================] - 3s 441us/step - loss: 0.1117 - acc: 0.9671 - val_loss: 0.5701 - val_acc: 0.8994\n",
      "Epoch 98/100\n",
      "7000/7000 [==============================] - 3s 441us/step - loss: 0.1101 - acc: 0.9663 - val_loss: 0.6452 - val_acc: 0.8994\n",
      "Epoch 99/100\n",
      "7000/7000 [==============================] - 3s 442us/step - loss: 0.1043 - acc: 0.9687 - val_loss: 0.5925 - val_acc: 0.8908\n",
      "Epoch 100/100\n",
      "7000/7000 [==============================] - 3s 441us/step - loss: 0.1246 - acc: 0.9644 - val_loss: 0.6868 - val_acc: 0.8994\n",
      "467/467 [==============================] - 0s 269us/step\n",
      "Test loss: 0.6867804936346712\n",
      "Test accuracy: 0.8993576026064936\n"
     ]
    }
   ],
   "source": [
    "model.compile(\n",
    "    optimizer=\"Adam\",\n",
    "    loss=\"categorical_crossentropy\",\n",
    "    metrics=['accuracy'])\n",
    "\n",
    "history =model.fit(\n",
    "    x=X_train, \n",
    "    y=y_train,\n",
    "    epochs=100,\n",
    "    batch_size=128,\n",
    "    validation_data= (X_test, y_test))\n",
    "\n",
    "score = model.evaluate(\n",
    "    x=X_test,\n",
    "    y=y_test)\n",
    "\n",
    "print('Test loss:', score[0])\n",
    "print('Test accuracy:', score[1])"
   ]
  },
  {
   "cell_type": "code",
   "execution_count": 25,
   "metadata": {},
   "outputs": [
    {
     "name": "stdout",
     "output_type": "stream",
     "text": [
      "dict_keys(['val_loss', 'val_acc', 'loss', 'acc'])\n"
     ]
    }
   ],
   "source": [
    "print(history.history.keys())"
   ]
  },
  {
   "cell_type": "code",
   "execution_count": 26,
   "metadata": {},
   "outputs": [
    {
     "data": {
      "image/png": "[encoded data removed]",
      "text/plain": [
       "<Figure size 432x288 with 1 Axes>"
      ]
     },
     "metadata": {
      "needs_background": "light"
     },
     "output_type": "display_data"
    },
    {
     "data": {
      "image/png": "[encoded data removed]",
      "text/plain": [
       "<Figure size 432x288 with 1 Axes>"
      ]
     },
     "metadata": {
      "needs_background": "light"
     },
     "output_type": "display_data"
    }
   ],
   "source": [
    "import matplotlib.pyplot as plt\n",
    "acc = history.history['acc']\n",
    "val_acc = history.history['val_acc']\n",
    "loss = history.history['loss']\n",
    "val_loss = history.history['val_loss']\n",
    "epochs = range(1, len(acc) + 1)\n",
    "plt.plot(epochs, acc, 'bo', label='Training acc')\n",
    "plt.plot(epochs, val_acc, 'b', label='Validation acc')\n",
    "plt.title('Training and validation accuracy')\n",
    "plt.legend()\n",
    "plt.figure()\n",
    "plt.plot(epochs, loss, 'bo', label='Training loss')\n",
    "plt.plot(epochs, val_loss, 'b', label='Validation loss')\n",
    "plt.title('Training and validation loss')\n",
    "plt.legend()\n",
    "plt.show()"
   ]
  },
  {
   "cell_type": "code",
   "execution_count": null,
   "metadata": {},
   "outputs": [],
   "source": []
  }
 ],
 "metadata": {
  "kernelspec": {
   "display_name": "Python 3",
   "language": "python",
   "name": "python3"
  },
  "language_info": {
   "codemirror_mode": {
    "name": "ipython",
    "version": 3
   },
   "file_extension": ".py",
   "mimetype": "text/x-python",
   "name": "python",
   "nbconvert_exporter": "python",
   "pygments_lexer": "ipython3",
   "version": "3.7.1"
  }
 },
 "nbformat": 4,
 "nbformat_minor": 2
}
